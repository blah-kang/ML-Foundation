{
 "cells": [
  {
   "cell_type": "markdown",
   "metadata": {},
   "source": [
    "# Least Angle Regression"
   ]
  },
  {
   "cell_type": "markdown",
   "metadata": {},
   "source": [
    "- 主要实现LARS算法"
   ]
  },
  {
   "cell_type": "markdown",
   "metadata": {},
   "source": [
    "# 1. Forward-stagewise regression"
   ]
  },
  {
   "cell_type": "markdown",
   "metadata": {},
   "source": [
    "**Alg**: <br/>\n",
    "$initialization\\ \\hat{\\mu} = 0$ <br/>\n",
    "$repeat\\ for\\ t = 1, 2, 3, ...:$<br/>\n",
    "$\\quad Cal\\ current\\ correlations\\ vector\\ \\hat{c}$ <br/>\n",
    "$\\quad Pick\\ up\\ greatest\\ current\\ correlations\\ variable$ <br/>\n",
    "$\\quad Take\\ a\\ small\\ step\\ 0 < \\epsilon < |c_j|\\ in\\ the\\ direction\\ of\\ selected\\ variable$ <br/>\n",
    "$\\quad \\hat{\\mu} \\leftarrow \\hat{\\mu} + \\epsilon * sign(c_j) * x_j$ <br/>\n",
    "$until\\ none\\ of\\ the\\ variables\\ have\\ correlation\\ with\\ the\\ residual$"
   ]
  },
  {
   "cell_type": "code",
   "execution_count": 1,
   "metadata": {},
   "outputs": [],
   "source": [
    "import re\n",
    "import numpy as np\n",
    "from sklearn import linear_model\n",
    "from matplotlib import pyplot as plt"
   ]
  },
  {
   "cell_type": "code",
   "execution_count": 2,
   "metadata": {},
   "outputs": [],
   "source": [
    "def forward_stagewise_reg(X, y, t=5000, epsilon=3.3):\n",
    "    mu_hat = np.zeros_like(y)\n",
    "    w = np.zeros_like(X[0])\n",
    "    \n",
    "    while True:\n",
    "        # cal 𝑐𝑢𝑟𝑟𝑒𝑛𝑡 𝑐𝑜𝑟𝑟𝑒𝑙𝑎𝑡𝑖𝑜𝑛 vector\n",
    "        C = (X.T).dot(y - mu_hat)\n",
    "        \n",
    "        # pick up highest 𝑐𝑢𝑟𝑟𝑒𝑛𝑡 𝑐𝑜𝑟𝑟𝑒𝑙𝑎𝑡𝑖𝑜𝑛 variable\n",
    "        j = np.argmax(np.abs(C))\n",
    "        \n",
    "        # cal step_length\n",
    "        step_length = epsilon if epsilon < abs(C[j]) else abs(C[j])\n",
    "        \n",
    "        # update mu_hat and w\n",
    "        mu_hat += step_length * np.sign(C[j]) * X[:, j]\n",
    "        w[j] +=  step_length * np.sign(C[j])\n",
    "        \n",
    "        if np.linalg.norm(w, ord=1) > t or np.linalg.norm(C, ord=1) < 1e-6:\n",
    "            break\n",
    "    return w"
   ]
  },
  {
   "cell_type": "code",
   "execution_count": 3,
   "metadata": {},
   "outputs": [],
   "source": [
    "def read_data_from_file(fpath):\n",
    "    label = []\n",
    "    data = []\n",
    "    with open(fpath, 'r') as f:\n",
    "        label = f.readline().strip().split('\\t')\n",
    "        for line in f:\n",
    "            data.append(re.split(' |\\t', line.strip()))\n",
    "    data = np.array(data, dtype=np.float64)\n",
    "    return data, label"
   ]
  },
  {
   "cell_type": "code",
   "execution_count": 4,
   "metadata": {},
   "outputs": [
    {
     "name": "stdout",
     "output_type": "stream",
     "text": [
      "(442, 11)\n",
      "[[ 59.       2.      32.1    101.     157.      93.2     38.       4.\n",
      "    4.8598  87.     151.    ]\n",
      " [ 48.       1.      21.6     87.     183.     103.2     70.       3.\n",
      "    3.8918  69.      75.    ]\n",
      " [ 72.       2.      30.5     93.     156.      93.6     41.       4.\n",
      "    4.6728  85.     141.    ]\n",
      " [ 24.       1.      25.3     84.     198.     131.4     40.       5.\n",
      "    4.8903  89.     206.    ]\n",
      " [ 50.       1.      23.     101.     192.     125.4     52.       4.\n",
      "    4.2905  80.     135.    ]]\n"
     ]
    }
   ],
   "source": [
    "data, label = read_data_from_file('diabetes.data')\n",
    "print(data.shape)\n",
    "print(data[:5])"
   ]
  },
  {
   "cell_type": "code",
   "execution_count": 5,
   "metadata": {},
   "outputs": [
    {
     "name": "stdout",
     "output_type": "stream",
     "text": [
      "[[ 0.03807591  0.05068012  0.06169621  0.02187239 -0.0442235  -0.03482076\n",
      "  -0.04340085 -0.00259226  0.01990749 -0.01764613]\n",
      " [-0.00188202 -0.04464164 -0.05147406 -0.02632753 -0.00844872 -0.01916334\n",
      "   0.07441156 -0.03949338 -0.06833155 -0.09220405]\n",
      " [ 0.08529891  0.05068012  0.04445121 -0.00567042 -0.04559945 -0.03419447\n",
      "  -0.03235593 -0.00259226  0.00286131 -0.02593034]\n",
      " [-0.08906294 -0.04464164 -0.01159501 -0.03665608  0.01219057  0.02499059\n",
      "  -0.03603757  0.03430886  0.02268774 -0.00936191]\n",
      " [ 0.00538306 -0.04464164 -0.03638469  0.02187239  0.00393485  0.01559614\n",
      "   0.00814208 -0.00259226 -0.03198764 -0.04664087]]\n",
      "[ -1.13348416 -77.13348416 -11.13348416  53.86651584 -17.13348416]\n"
     ]
    }
   ],
   "source": [
    "X, y = data[:, :-1], data[:,-1]\n",
    "X = (X - X.mean(axis=0))\n",
    "X = X / np.linalg.norm(X, axis=0)\n",
    "y -= y.mean()\n",
    "print(X[:5])\n",
    "print(y[:5])"
   ]
  },
  {
   "cell_type": "code",
   "execution_count": 6,
   "metadata": {},
   "outputs": [
    {
     "name": "stdout",
     "output_type": "stream",
     "text": [
      "OLS:  [ -10.0098663  -239.81564367  519.84592005  324.3846455  -792.17563855\n",
      "  476.73902101  101.04326794  177.06323767  751.27369956   67.62669218]\n"
     ]
    }
   ],
   "source": [
    "print('OLS: ', (np.linalg.inv((X.T).dot(X))).dot(X.T).dot(y))"
   ]
  },
  {
   "cell_type": "code",
   "execution_count": 7,
   "metadata": {},
   "outputs": [
    {
     "data": {
      "text/plain": [
       "array([ -10.00986617, -239.81564348,  519.84592049,  324.38464525,\n",
       "       -792.17561537,  476.73900289,  101.04325735,  177.06323414,\n",
       "        751.27369086,   67.62669233])"
      ]
     },
     "execution_count": 7,
     "metadata": {},
     "output_type": "execute_result"
    }
   ],
   "source": [
    "forward_stagewise_reg(X ,y, t=3460)"
   ]
  },
  {
   "cell_type": "code",
   "execution_count": 8,
   "metadata": {},
   "outputs": [],
   "source": [
    "ts = np.linspace(0, 3460, 100)\n",
    "coefs = []\n",
    "\n",
    "for t in ts:\n",
    "    w = forward_stagewise_reg(X ,y, t=t)\n",
    "    coefs.append(w)\n",
    "coefs = np.array(coefs)"
   ]
  },
  {
   "cell_type": "code",
   "execution_count": 9,
   "metadata": {},
   "outputs": [
    {
     "data": {
      "text/plain": [
       "(-173.0, 3633.0, -869.3480806781228, 828.4461561688399)"
      ]
     },
     "execution_count": 9,
     "metadata": {},
     "output_type": "execute_result"
    },
    {
     "data": {
      "image/png": "[encoded data removed]",
      "text/plain": [
       "<Figure size 864x576 with 1 Axes>"
      ]
     },
     "metadata": {
      "needs_background": "light"
     },
     "output_type": "display_data"
    }
   ],
   "source": [
    "plt.figure(figsize = (12,8))\n",
    "for i in range(10):\n",
    "    plt.plot(ts, coefs[:,i], label=label[i])\n",
    "\n",
    "plt.ylabel('coefficients')\n",
    "plt.xlabel('$t=\\sum|\\hat{\\\\beta}_j| \\\\rightarrow $')\n",
    "plt.title('Lasso paths - Sklearn')\n",
    "plt.legend()\n",
    "plt.axis('tight')"
   ]
  },
  {
   "cell_type": "markdown",
   "metadata": {},
   "source": [
    "## 2. LARS"
   ]
  },
  {
   "cell_type": "markdown",
   "metadata": {},
   "source": [
    "**Alg**: <br/>\n",
    "$initialization\\ \\hat{\\mu} = 0$ <br/>\n",
    "$repeat\\ t = 1,2,...,m:$<br/>\n",
    "$\\quad Cal\\ current\\ correlations\\ vector\\ \\hat{c}$ <br/>\n",
    "$\\quad Cal\\ X_{\\cal A},A_{\\cal A},u_{\\cal A}\\ and\\ a$ <br/>\n",
    "$\\quad updates\\ \\hat{\\mu}_{\\cal A}: \\hat{\\mu}_{\\cal A_+} = \\hat{\\mu}_{\\cal A} + \\hat{\\gamma} u_{\\cal A},$ <br/>"
   ]
  },
  {
   "cell_type": "code",
   "execution_count": 10,
   "metadata": {},
   "outputs": [],
   "source": [
    "def lars_reg(X, y):\n",
    "    m = X.shape[1]\n",
    "    mu_hat = np.zeros_like(y)\n",
    "    w = np.zeros_like(X[0])\n",
    "    \n",
    "    for i in range(m):\n",
    "        # get residual with lars estimate mu_hat\n",
    "        residual = y - mu_hat\n",
    "        \n",
    "        # cal current correlations vector\n",
    "        c_hat = (X.T).dot(residual)\n",
    "        C_hat = np.max(np.abs(c_hat))      # max correlations\n",
    "        \n",
    "        # active set\n",
    "        A = set(np.where(np.isclose(np.abs(c_hat), C_hat))[0])\n",
    " \n",
    "        X_A = X[:, sorted(list(A))]*np.sign(c_hat[sorted(list(A))])\n",
    "        G_A = (X_A.T).dot(X_A)\n",
    "        G_A_inv = np.linalg.inv(G_A)\n",
    "    \n",
    "        A_A = (np.ones((1, len(A))).dot(G_A_inv).dot(np.ones(len(A))))**(-.5)\n",
    "        \n",
    "        w_A = A_A*G_A_inv.dot(np.ones(len(A)))\n",
    "        u_A = X_A.dot(w_A)   # equiangular vector\n",
    "        \n",
    "        a = (X.T).dot(u_A)\n",
    "        \n",
    "        # start cal step length: gamma_hat\n",
    "        tmp = [(C_hat-c_hat[j])/(A_A-a[j])  for j in range(m) if j not in A]\n",
    "        tmp.extend([(C_hat+c_hat[j])/(A_A+a[j])  for j in range(m) if j not in A])\n",
    "        \n",
    "        gamma_hat = C_hat/A_A if len(tmp)==0 else np.min([e for e in tmp if e > 0])\n",
    "        \n",
    "        mu_hat += gamma_hat*u_A\n",
    "        w[sorted(list(A))] += gamma_hat*w_A*np.sign(c_hat[sorted(list(A))])\n",
    "        \n",
    "        if len(tmp) == 0: break\n",
    "    return w"
   ]
  },
  {
   "cell_type": "code",
   "execution_count": 11,
   "metadata": {},
   "outputs": [
    {
     "data": {
      "text/plain": [
       "array([ -10.0098663 , -239.81564367,  519.84592005,  324.3846455 ,\n",
       "       -792.17563855,  476.73902101,  101.04326794,  177.06323767,\n",
       "        751.27369956,   67.62669218])"
      ]
     },
     "execution_count": 11,
     "metadata": {},
     "output_type": "execute_result"
    }
   ],
   "source": [
    "lars_reg(X, y)"
   ]
  },
  {
   "cell_type": "markdown",
   "metadata": {},
   "source": [
    "## 参考：\n",
    "- Forward-stagewise regression: LeastAngle_2002.pdf 或者 'The Elements of Statistical Learning' p60\n",
    "- LARS: LeastAngle_2002.pdf 及 'The Elements of Statistical Learning' p73"
   ]
  }
 ],
 "metadata": {
  "kernelspec": {
   "display_name": "Python 3",
   "language": "python",
   "name": "python3"
  },
  "language_info": {
   "codemirror_mode": {
    "name": "ipython",
    "version": 3
   },
   "file_extension": ".py",
   "mimetype": "text/x-python",
   "name": "python",
   "nbconvert_exporter": "python",
   "pygments_lexer": "ipython3",
   "version": "3.7.1"
  },
  "toc": {
   "base_numbering": 1,
   "nav_menu": {},
   "number_sections": false,
   "sideBar": true,
   "skip_h1_title": false,
   "title_cell": "Table of Contents",
   "title_sidebar": "Contents",
   "toc_cell": false,
   "toc_position": {},
   "toc_section_display": true,
   "toc_window_display": false
  }
 },
 "nbformat": 4,
 "nbformat_minor": 2
}
